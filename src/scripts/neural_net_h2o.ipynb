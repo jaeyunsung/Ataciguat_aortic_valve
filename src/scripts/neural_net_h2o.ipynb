{
 "cells": [
  {
   "cell_type": "code",
   "execution_count": null,
   "id": "05c71713-df8b-4656-8a4d-09effd8d4e7f",
   "metadata": {},
   "outputs": [],
   "source": [
    "import h2o\n",
    "from h2o.estimators import H2ODeepLearningEstimator\n",
    "import pandas as pd"
   ]
  },
  {
   "cell_type": "code",
   "execution_count": null,
   "id": "04e7d5e3-d929-4c60-a386-23d878b3cf43",
   "metadata": {},
   "outputs": [],
   "source": [
    "h2o.init()"
   ]
  },
  {
   "cell_type": "code",
   "execution_count": null,
   "id": "4483d459-75ea-45d5-9c96-bc4b1ce9345d",
   "metadata": {},
   "outputs": [],
   "source": [
    "#loop through all results\n",
    "for i in range(1,24):\n",
    "    #read in the training and test data\n",
    "    print(\"i: %s\" % (i))\n",
    "    train_file1 = \"../data/train/train%s.csv\" % (i)\n",
    "    #print(train_file1)\n",
    "    train1 = h2o.import_file(train_file1)\n",
    "    train1[\"Treatment.Group\"] = train1[\"Treatment.Group\"].asfactor()\n",
    "\n",
    "    \n",
    "    \n",
    "    test_file1 = \"../data/test/test%s.csv\" % (i)\n",
    "    #print(test_file1)\n",
    "    test1 = h2o.import_file(test_file1)\n",
    "    test1[\"Treatment.Group\"] = test1[\"Treatment.Group\"].asfactor()\n",
    "    testing_file = pd.read_csv(test_file1)\n",
    "    \n",
    "    #specify the columns to use for training and the variable to predict\n",
    "    x = train1.columns\n",
    "    y = \"DELTA_AREA\"\n",
    "    x.remove(y)\n",
    "    \n",
    "    #initilize the model\n",
    "    dl = H2ODeepLearningEstimator(seed=428)\n",
    "    #train the model\n",
    "    dl.train(x=x,y=y,training_frame=train1)\n",
    "    #predict the change in area using the model on the test sample \n",
    "    predicted_values = dl.predict(test1)\n",
    "    #save output\n",
    "    export_path = \"../output/actual_vs_predicted/predicted_value%s\" % (i)\n",
    "    export_path = export_path + \".csv\"\n",
    "    h2o.export_file(predicted_values, path = export_path, force = True)\n",
    "    actual = pd.DataFrame(testing_file[\"DELTA_AREA\"])\n",
    "    export_actual = \"../output/actual_vs_predicted/actual_value%s\" % (i)\n",
    "    actual.to_csv(export_actual,index=False)"
   ]
  },
  {
   "cell_type": "code",
   "execution_count": null,
   "id": "41a759e9-0dc6-4922-80ec-737ed06e23b1",
   "metadata": {},
   "outputs": [],
   "source": []
  },
  {
   "cell_type": "code",
   "execution_count": null,
   "id": "9b3e9657-d66a-434a-9d8c-c816a4e2cf33",
   "metadata": {},
   "outputs": [],
   "source": [
    "#get features of importance using all samples as training and test\n",
    "train1 = h2o.import_file(\"../data/delta_area_for_regression.csv\")\n",
    "x = train1.columns\n",
    "print(x)\n",
    "y = \"DELTA_AREA\"\n",
    "train1[\"\\ufeffTreatment Group\"] = train1[\"\\ufeffTreatment Group\"].asfactor()\n",
    "\n",
    "x.remove(y)\n",
    "dl = H2ODeepLearningEstimator(seed=428)\n",
    "dl.train(x=x,y=y,training_frame=train1)\n",
    "predicted_values = dl.predict(train1)\n",
    "#get features of importance and save\n",
    "varimp = dl.varimp(use_pandas=True)\n",
    "varimp.to_csv(\"../output/features_of_importance_Delta_Area.csv\",index=False)"
   ]
  }
 ],
 "metadata": {
  "kernelspec": {
   "display_name": "Python 3",
   "language": "python",
   "name": "python3"
  },
  "language_info": {
   "codemirror_mode": {
    "name": "ipython",
    "version": 3
   },
   "file_extension": ".py",
   "mimetype": "text/x-python",
   "name": "python",
   "nbconvert_exporter": "python",
   "pygments_lexer": "ipython3",
   "version": "3.9.12"
  }
 },
 "nbformat": 4,
 "nbformat_minor": 5
}
